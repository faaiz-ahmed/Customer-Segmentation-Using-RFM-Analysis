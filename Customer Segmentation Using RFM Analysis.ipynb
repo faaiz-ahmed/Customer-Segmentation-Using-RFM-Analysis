{
 "cells": [
  {
   "cell_type": "markdown",
   "id": "a95c451c",
   "metadata": {},
   "source": [
    "# Customer Segmentation Using RFM Analysis"
   ]
  },
  {
   "cell_type": "code",
   "execution_count": 1,
   "id": "32fb51c6",
   "metadata": {},
   "outputs": [],
   "source": [
    "import pandas as pd\n",
    "import numpy as np\n",
    "import matplotlib.pyplot as plt\n",
    "import seaborn as sns"
   ]
  },
  {
   "cell_type": "code",
   "execution_count": 2,
   "id": "943ce883",
   "metadata": {},
   "outputs": [
    {
     "data": {
      "text/html": [
       "<div>\n",
       "<style scoped>\n",
       "    .dataframe tbody tr th:only-of-type {\n",
       "        vertical-align: middle;\n",
       "    }\n",
       "\n",
       "    .dataframe tbody tr th {\n",
       "        vertical-align: top;\n",
       "    }\n",
       "\n",
       "    .dataframe thead th {\n",
       "        text-align: right;\n",
       "    }\n",
       "</style>\n",
       "<table border=\"1\" class=\"dataframe\">\n",
       "  <thead>\n",
       "    <tr style=\"text-align: right;\">\n",
       "      <th></th>\n",
       "      <th>InvoiceNo</th>\n",
       "      <th>StockCode</th>\n",
       "      <th>Description</th>\n",
       "      <th>Quantity</th>\n",
       "      <th>InvoiceDate</th>\n",
       "      <th>UnitPrice</th>\n",
       "      <th>CustomerID</th>\n",
       "      <th>Country</th>\n",
       "    </tr>\n",
       "  </thead>\n",
       "  <tbody>\n",
       "    <tr>\n",
       "      <th>0</th>\n",
       "      <td>536365</td>\n",
       "      <td>85123A</td>\n",
       "      <td>WHITE HANGING HEART T-LIGHT HOLDER</td>\n",
       "      <td>6</td>\n",
       "      <td>12/1/2010 8:26</td>\n",
       "      <td>2.55</td>\n",
       "      <td>17850.0</td>\n",
       "      <td>United Kingdom</td>\n",
       "    </tr>\n",
       "    <tr>\n",
       "      <th>1</th>\n",
       "      <td>536365</td>\n",
       "      <td>71053</td>\n",
       "      <td>WHITE METAL LANTERN</td>\n",
       "      <td>6</td>\n",
       "      <td>12/1/2010 8:26</td>\n",
       "      <td>3.39</td>\n",
       "      <td>17850.0</td>\n",
       "      <td>United Kingdom</td>\n",
       "    </tr>\n",
       "    <tr>\n",
       "      <th>2</th>\n",
       "      <td>536365</td>\n",
       "      <td>84406B</td>\n",
       "      <td>CREAM CUPID HEARTS COAT HANGER</td>\n",
       "      <td>8</td>\n",
       "      <td>12/1/2010 8:26</td>\n",
       "      <td>2.75</td>\n",
       "      <td>17850.0</td>\n",
       "      <td>United Kingdom</td>\n",
       "    </tr>\n",
       "    <tr>\n",
       "      <th>3</th>\n",
       "      <td>536365</td>\n",
       "      <td>84029G</td>\n",
       "      <td>KNITTED UNION FLAG HOT WATER BOTTLE</td>\n",
       "      <td>6</td>\n",
       "      <td>12/1/2010 8:26</td>\n",
       "      <td>3.39</td>\n",
       "      <td>17850.0</td>\n",
       "      <td>United Kingdom</td>\n",
       "    </tr>\n",
       "    <tr>\n",
       "      <th>4</th>\n",
       "      <td>536365</td>\n",
       "      <td>84029E</td>\n",
       "      <td>RED WOOLLY HOTTIE WHITE HEART.</td>\n",
       "      <td>6</td>\n",
       "      <td>12/1/2010 8:26</td>\n",
       "      <td>3.39</td>\n",
       "      <td>17850.0</td>\n",
       "      <td>United Kingdom</td>\n",
       "    </tr>\n",
       "  </tbody>\n",
       "</table>\n",
       "</div>"
      ],
      "text/plain": [
       "  InvoiceNo StockCode                          Description  Quantity  \\\n",
       "0    536365    85123A   WHITE HANGING HEART T-LIGHT HOLDER         6   \n",
       "1    536365     71053                  WHITE METAL LANTERN         6   \n",
       "2    536365    84406B       CREAM CUPID HEARTS COAT HANGER         8   \n",
       "3    536365    84029G  KNITTED UNION FLAG HOT WATER BOTTLE         6   \n",
       "4    536365    84029E       RED WOOLLY HOTTIE WHITE HEART.         6   \n",
       "\n",
       "      InvoiceDate  UnitPrice  CustomerID         Country  \n",
       "0  12/1/2010 8:26       2.55     17850.0  United Kingdom  \n",
       "1  12/1/2010 8:26       3.39     17850.0  United Kingdom  \n",
       "2  12/1/2010 8:26       2.75     17850.0  United Kingdom  \n",
       "3  12/1/2010 8:26       3.39     17850.0  United Kingdom  \n",
       "4  12/1/2010 8:26       3.39     17850.0  United Kingdom  "
      ]
     },
     "execution_count": 2,
     "metadata": {},
     "output_type": "execute_result"
    }
   ],
   "source": [
    "df=pd.read_csv('Online Retail.csv')\n",
    "df.head()"
   ]
  },
  {
   "cell_type": "code",
   "execution_count": 3,
   "id": "39465089",
   "metadata": {},
   "outputs": [
    {
     "name": "stdout",
     "output_type": "stream",
     "text": [
      "<class 'pandas.core.frame.DataFrame'>\n",
      "RangeIndex: 541909 entries, 0 to 541908\n",
      "Data columns (total 8 columns):\n",
      " #   Column       Non-Null Count   Dtype  \n",
      "---  ------       --------------   -----  \n",
      " 0   InvoiceNo    541909 non-null  object \n",
      " 1   StockCode    541909 non-null  object \n",
      " 2   Description  540455 non-null  object \n",
      " 3   Quantity     541909 non-null  int64  \n",
      " 4   InvoiceDate  541909 non-null  object \n",
      " 5   UnitPrice    541909 non-null  float64\n",
      " 6   CustomerID   406829 non-null  float64\n",
      " 7   Country      541909 non-null  object \n",
      "dtypes: float64(2), int64(1), object(5)\n",
      "memory usage: 33.1+ MB\n"
     ]
    }
   ],
   "source": [
    " df.info()"
   ]
  },
  {
   "cell_type": "code",
   "execution_count": 4,
   "id": "a96d46a5",
   "metadata": {},
   "outputs": [
    {
     "name": "stdout",
     "output_type": "stream",
     "text": [
      "Missing values before cleaning:\n",
      " InvoiceNo           0\n",
      "StockCode           0\n",
      "Description      1454\n",
      "Quantity            0\n",
      "InvoiceDate         0\n",
      "UnitPrice           0\n",
      "CustomerID     135080\n",
      "Country             0\n",
      "dtype: int64\n"
     ]
    }
   ],
   "source": [
    "print('Missing values before cleaning:\\n', df.isnull().sum())"
   ]
  },
  {
   "cell_type": "code",
   "execution_count": 5,
   "id": "6fc521ec",
   "metadata": {},
   "outputs": [],
   "source": [
    "df=df.dropna(subset=['CustomerID'])"
   ]
  },
  {
   "cell_type": "code",
   "execution_count": 14,
   "id": "42148362",
   "metadata": {},
   "outputs": [],
   "source": [
    "df=df[(df['Quantity']>0) & (df['UnitPrice']>0)]"
   ]
  },
  {
   "cell_type": "code",
   "execution_count": 15,
   "id": "4fb139b5",
   "metadata": {},
   "outputs": [],
   "source": [
    "df['TotalPrice']=df['Quantity']*df['UnitPrice']"
   ]
  },
  {
   "cell_type": "code",
   "execution_count": 16,
   "id": "535d21e5",
   "metadata": {},
   "outputs": [
    {
     "name": "stdout",
     "output_type": "stream",
     "text": [
      "Missing values after cleaning:\n",
      " InvoiceNo      0\n",
      "StockCode      0\n",
      "Description    0\n",
      "Quantity       0\n",
      "InvoiceDate    0\n",
      "UnitPrice      0\n",
      "CustomerID     0\n",
      "Country        0\n",
      "TotalPrice     0\n",
      "dtype: int64\n"
     ]
    }
   ],
   "source": [
    "print('Missing values after cleaning:\\n',df.isnull().sum())"
   ]
  },
  {
   "cell_type": "code",
   "execution_count": 17,
   "id": "ab20f1e2",
   "metadata": {},
   "outputs": [
    {
     "name": "stdout",
     "output_type": "stream",
     "text": [
      "datetime64[ns]\n"
     ]
    }
   ],
   "source": [
    "df['InvoiceDate']=pd.to_datetime(df['InvoiceDate'],errors='coerce')\n",
    "print(df['InvoiceDate'].dtype)"
   ]
  },
  {
   "cell_type": "code",
   "execution_count": 18,
   "id": "074a647c",
   "metadata": {},
   "outputs": [
    {
     "name": "stdout",
     "output_type": "stream",
     "text": [
      "            Recency  Frequency  Monetary\n",
      "CustomerID                              \n",
      "12346.0         326          1  77183.60\n",
      "12347.0           2          7   4310.00\n",
      "12348.0          75          4   1797.24\n",
      "12349.0          19          1   1757.55\n",
      "12350.0         310          1    334.40\n"
     ]
    }
   ],
   "source": [
    "snapshot_date=df['InvoiceDate'].max()+pd.Timedelta(days=1)\n",
    "rfm=df.groupby('CustomerID').agg({\n",
    "    'InvoiceDate':lambda x:(snapshot_date-x.max()).days,\n",
    "    'InvoiceNo':'nunique',\n",
    "    'TotalPrice':'sum'   \n",
    "})\n",
    "rfm.columns=['Recency','Frequency','Monetary']\n",
    "print(rfm.head())"
   ]
  },
  {
   "cell_type": "code",
   "execution_count": 19,
   "id": "5ae30d11",
   "metadata": {},
   "outputs": [
    {
     "name": "stdout",
     "output_type": "stream",
     "text": [
      "            Recency  Frequency  Monetary Recency_score Frequency_score  \\\n",
      "CustomerID                                                               \n",
      "12346.0         326          1  77183.60             1               1   \n",
      "12347.0           2          7   4310.00             4               4   \n",
      "12348.0          75          4   1797.24             2               3   \n",
      "12349.0          19          1   1757.55             3               1   \n",
      "12350.0         310          1    334.40             1               1   \n",
      "\n",
      "           Monetary_score  RFM_Score  \n",
      "CustomerID                            \n",
      "12346.0                 4          6  \n",
      "12347.0                 4         12  \n",
      "12348.0                 4          9  \n",
      "12349.0                 4          8  \n",
      "12350.0                 2          4  \n"
     ]
    }
   ],
   "source": [
    "rfm['Recency_score']=pd.qcut(rfm['Recency'],4,labels=[4,3,2,1])\n",
    "rfm['Frequency_score']=pd.qcut(rfm['Frequency'].rank(method=\"first\"),4,labels=[1,2,3,4])\n",
    "rfm['Monetary_score']=pd.qcut(rfm['Monetary'],4,labels=[1,2,3,4])\n",
    "rfm['RFM_Score']=rfm[['Recency_score','Frequency_score','Monetary_score']].sum(axis=1)\n",
    "print(rfm.head())"
   ]
  },
  {
   "cell_type": "code",
   "execution_count": 20,
   "id": "80fcc2f1",
   "metadata": {},
   "outputs": [
    {
     "data": {
      "text/plain": [
       "Segment\n",
       "Champions             1679\n",
       "Potential Loyalist     988\n",
       "Loyal Customers        864\n",
       "At Risk                807\n",
       "Name: count, dtype: int64"
      ]
     },
     "execution_count": 20,
     "metadata": {},
     "output_type": "execute_result"
    }
   ],
   "source": [
    "def segment(x):\n",
    "    if x>=9:\n",
    "        return 'Champions'\n",
    "    elif x>=7:\n",
    "        return 'Loyal Customers'    \n",
    "    elif x>=5:\n",
    "        return 'Potential Loyalist'\n",
    "    else:\n",
    "        return 'At Risk'       \n",
    "rfm['Segment']=rfm['RFM_Score'].apply(segment)\n",
    "rfm['Segment'].value_counts()"
   ]
  },
  {
   "cell_type": "code",
   "execution_count": 24,
   "id": "6a4a2334",
   "metadata": {},
   "outputs": [
    {
     "name": "stdout",
     "output_type": "stream",
     "text": [
      "            Recency  Frequency  Monetary             Segment  \\\n",
      "CustomerID                                                     \n",
      "12346.0         326          1  77183.60  Potential Loyalist   \n",
      "12347.0           2          7   4310.00           Champions   \n",
      "12348.0          75          4   1797.24           Champions   \n",
      "12349.0          19          1   1757.55     Loyal Customers   \n",
      "12350.0         310          1    334.40             At Risk   \n",
      "\n",
      "                                             Marketing_Action  \n",
      "CustomerID                                                     \n",
      "12346.0     Send coupons, reminder emails, special promoti...  \n",
      "12347.0     Send VIP offers, early access to new products,...  \n",
      "12348.0     Send VIP offers, early access to new products,...  \n",
      "12349.0     Offer loyalty programs, discounts, personalize...  \n",
      "12350.0     Re-engage with 'We miss you' campaigns, big di...  \n"
     ]
    }
   ],
   "source": [
    "marketing_dict={\n",
    "    'Champions': \"Send VIP offers, early access to new products, thank-you gifts.\",\n",
    "    'Loyal Customers': \"Offer loyalty programs, discounts, personalized product suggestions.\",\n",
    "    'Potential Loyalist': \"Send coupons, reminder emails, special promotions to convert them.\",\n",
    "    'At Risk': \"Re-engage with 'We miss you' campaigns, big discounts, or surveys.\"\n",
    "}\n",
    "rfm['Marketing_Action'] = rfm['Segment'].map(marketing_dict)\n",
    "print(rfm[['Recency','Frequency','Monetary','Segment','Marketing_Action']].head())"
   ]
  },
  {
   "cell_type": "code",
   "execution_count": 21,
   "id": "06407e12",
   "metadata": {},
   "outputs": [
    {
     "data": {
      "image/png": "[encoded data removed]",
      "text/plain": [
       "<Figure size 800x500 with 1 Axes>"
      ]
     },
     "metadata": {},
     "output_type": "display_data"
    }
   ],
   "source": [
    "plt.figure(figsize=(8,5))\n",
    "sns.countplot(data=rfm, x='Segment', order=rfm['Segment'].value_counts().index, palette=\"Set2\")\n",
    "plt.title(\"Customer Segments\")\n",
    "plt.show()"
   ]
  },
  {
   "cell_type": "code",
   "execution_count": null,
   "id": "ac4e98b1",
   "metadata": {},
   "outputs": [],
   "source": []
  }
 ],
 "metadata": {
  "kernelspec": {
   "display_name": "Python 3 (ipykernel)",
   "language": "python",
   "name": "python3"
  },
  "language_info": {
   "codemirror_mode": {
    "name": "ipython",
    "version": 3
   },
   "file_extension": ".py",
   "mimetype": "text/x-python",
   "name": "python",
   "nbconvert_exporter": "python",
   "pygments_lexer": "ipython3",
   "version": "3.11.7"
  }
 },
 "nbformat": 4,
 "nbformat_minor": 5
}
